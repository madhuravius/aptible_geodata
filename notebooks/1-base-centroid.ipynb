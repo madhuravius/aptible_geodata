{
 "cells": [
  {
   "cell_type": "code",
   "execution_count": 1,
   "id": "d5b0b606",
   "metadata": {
    "pycharm": {
     "name": "#%%\n"
    }
   },
   "outputs": [
    {
     "data": {
      "text/plain": [
       "[{'country_code': 'US', 'city': 'Churubusco', 'country': 'United States'}]"
      ]
     },
     "execution_count": 1,
     "metadata": {},
     "output_type": "execute_result"
    }
   ],
   "source": [
    "from geojson import GeometryCollection, Point\n",
    "import reverse_geocode\n",
    "from data.locations import raw_locations\n",
    "\n",
    "locations = GeometryCollection([Point((raw_location[0], raw_location[1])) for raw_location in raw_locations])\n",
    "\n",
    "# Compare against (points answer):\n",
    "# https://math.stackexchange.com/questions/90463/how-can-i-calculate-the-centroid-of-polygon\n",
    "approximate_center_lat = sum([raw_location[0] for raw_location in raw_locations]) / len(raw_locations)\n",
    "approximate_center_long = sum([raw_location[1] for raw_location in raw_locations]) / len(raw_locations)\n",
    "approximate_center = Point((approximate_center_lat, approximate_center_long))\n",
    "\n",
    "reverse_geocode.search([(approximate_center_long, approximate_center_lat)])"
   ]
  },
  {
   "cell_type": "code",
   "execution_count": 5,
   "id": "b6881f5f",
   "metadata": {
    "pycharm": {
     "name": "#%%\n"
    }
   },
   "outputs": [
    {
     "name": "stdout",
     "output_type": "stream",
     "text": [
      "User Guide: https://docs.kepler.gl/docs/keplergl-jupyter\n",
      "Map saved to ../outputs/1-base-centroid.html!\n"
     ]
    }
   ],
   "source": [
    "from keplergl import KeplerGl\n",
    "import json\n",
    "\n",
    "map_1 = KeplerGl(\n",
    "    config={\n",
    "        \"version\": \"v1\",\n",
    "        \"config\": {\n",
    "            \"mapState\": {\n",
    "                \"bearing\": 0,\n",
    "                \"dragRotate\": True,\n",
    "                \"latitude\": 39.50,\n",
    "                \"longitude\": -98.35,\n",
    "                \"pitch\": 0,\n",
    "                \"zoom\": 2.75,\n",
    "                \"isSplit\": False,\n",
    "            },\n",
    "        },\n",
    "    }\n",
    ")\n",
    "map_1.add_data(data=json.dumps(locations), name=\"employee locations\")\n",
    "map_1.add_data(data=json.dumps(approximate_center), name=\"center\")\n",
    "map_1.save_to_html(file_name=\"../outputs/1-base-centroid.html\")"
   ]
  },
  {
   "cell_type": "code",
   "execution_count": 4,
   "id": "da49b73d",
   "metadata": {},
   "outputs": [
    {
     "data": {
      "text/html": [
       "<iframe width=\"700\" height=\"500\" src=\"../outputs/1-base-centroid.html\" frameborder=\"0\" allowfullscreen></iframe>\n"
      ],
      "text/plain": [
       "<IPython.core.display.HTML object>"
      ]
     },
     "metadata": {},
     "output_type": "display_data"
    }
   ],
   "source": [
    "%%html\n",
    "<iframe width=\"700\" height=\"500\" src=\"../outputs/1-base-centroid.html\" frameborder=\"0\" allowfullscreen></iframe>"
   ]
  }
 ],
 "metadata": {
  "kernelspec": {
   "display_name": "Python 3 (ipykernel)",
   "language": "python",
   "name": "python3"
  },
  "language_info": {
   "codemirror_mode": {
    "name": "ipython",
    "version": 3
   },
   "file_extension": ".py",
   "mimetype": "text/x-python",
   "name": "python",
   "nbconvert_exporter": "python",
   "pygments_lexer": "ipython3",
   "version": "3.10.3"
  }
 },
 "nbformat": 4,
 "nbformat_minor": 5
}
