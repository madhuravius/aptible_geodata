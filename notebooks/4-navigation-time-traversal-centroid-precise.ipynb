{
 "cells": [
  {
   "cell_type": "code",
   "execution_count": null,
   "id": "35dd8cf5",
   "metadata": {},
   "outputs": [],
   "source": [
    "# this is strategy 4 with traversal of OSM data\n",
    "\n",
    "# import osmnx as ox\n",
    "\n",
    "# ox.config(use_cache=True, log_console=True)\n",
    "\n",
    "# # compute driving distance to closest airport\n",
    "# location_point = locations_with_closest_airport.head(1).location[0]\n",
    "# airport_id = locations_with_closest_airport.head(1).closest_airport_id[0]\n",
    "# nearest_airport = filtered_airports_gpd.query(f'id == {airport_id}')\n",
    "# nearest_airport\n",
    "# # reverse long/lat as this correctly expects it in this order\n",
    "# ox_graph = ox.graph_from_point((location_point[1], location_point[0]), dist=30000, dist_type=\"bbox\", network_type=\"drive_service\", simplify=True)\n",
    "# nearest_node_to_location_point = ox.nearest_nodes(ox_graph, location_point[1], location_point[0])\n",
    "# nearest_node_to_airport = ox.nearest_nodes(ox_graph, nearest_airport.longitude_deg, nearest_airport.latitude_deg)\n",
    "# print(\"Comparing distances between nodes:\", nearest_node_to_location_point, nearest_node_to_airport)\n",
    "\n",
    "# route = ox.shortest_path(ox_graph, nearest_node_to_location_point, nearest_node_to_airport[0], cpus=None)\n",
    "# fig, ax = ox.plot_graph_route(ox_graph, route, route_color=\"c\", node_size=0)"
   ]
  }
 ],
 "metadata": {
  "kernelspec": {
   "display_name": "Python 3 (ipykernel)",
   "language": "python",
   "name": "python3"
  },
  "language_info": {
   "codemirror_mode": {
    "name": "ipython",
    "version": 3
   },
   "file_extension": ".py",
   "mimetype": "text/x-python",
   "name": "python",
   "nbconvert_exporter": "python",
   "pygments_lexer": "ipython3",
   "version": "3.10.3"
  }
 },
 "nbformat": 4,
 "nbformat_minor": 5
}
